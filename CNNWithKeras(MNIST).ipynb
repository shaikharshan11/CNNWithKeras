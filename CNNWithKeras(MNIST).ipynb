{
  "nbformat": 4,
  "nbformat_minor": 0,
  "metadata": {
    "colab": {
      "provenance": []
    },
    "kernelspec": {
      "name": "python3",
      "display_name": "Python 3"
    },
    "language_info": {
      "name": "python"
    }
  },
  "cells": [
    {
      "cell_type": "code",
      "execution_count": 1,
      "metadata": {
        "id": "jMtV2dW0hT09"
      },
      "outputs": [],
      "source": [
        "import pandas as pd\n",
        "import numpy as numpy\n",
        "import keras"
      ]
    },
    {
      "cell_type": "code",
      "source": [
        "from keras.models import Sequential\n",
        "from keras.layers import Dense\n",
        "from keras.utils import to_categorical"
      ],
      "metadata": {
        "id": "oDfGo-ZAhnL2"
      },
      "execution_count": 2,
      "outputs": []
    },
    {
      "cell_type": "code",
      "source": [
        "from keras.layers import Conv2D, MaxPooling2D, Flatten"
      ],
      "metadata": {
        "id": "d4mAlVughydQ"
      },
      "execution_count": 3,
      "outputs": []
    },
    {
      "cell_type": "code",
      "source": [
        "from keras.datasets import mnist"
      ],
      "metadata": {
        "id": "1ALb2uJqiC_T"
      },
      "execution_count": 4,
      "outputs": []
    },
    {
      "cell_type": "code",
      "source": [
        "(x_train, y_train), (x_test, y_test) = mnist.load_data()"
      ],
      "metadata": {
        "id": "XZ_ye_d5itGb"
      },
      "execution_count": 5,
      "outputs": []
    },
    {
      "cell_type": "code",
      "source": [
        "x_train = x_train.reshape(x_train.shape[0], 28, 28, 1).astype('float32')\n",
        "x_test = x_test.reshape(x_test.shape[0], 28, 28, 1).astype('float32')"
      ],
      "metadata": {
        "id": "0FKjPTbti0Zz"
      },
      "execution_count": 6,
      "outputs": []
    },
    {
      "cell_type": "code",
      "source": [
        "x_train = x_train/255\n",
        "x_test = x_test/255"
      ],
      "metadata": {
        "id": "CQcBT5zXjIPc"
      },
      "execution_count": 7,
      "outputs": []
    },
    {
      "cell_type": "code",
      "source": [
        "y_train = to_categorical(y_train)\n",
        "y_test = to_categorical(y_test)"
      ],
      "metadata": {
        "id": "CEaglxVUjPXs"
      },
      "execution_count": 8,
      "outputs": []
    },
    {
      "cell_type": "code",
      "source": [
        "num_classes = y_test.shape[1]"
      ],
      "metadata": {
        "id": "b6Wt92oVjXtR"
      },
      "execution_count": 9,
      "outputs": []
    },
    {
      "cell_type": "code",
      "source": [
        "def convolutional_model():\n",
        "  model = Sequential()\n",
        "  model.add(Conv2D(16, (5, 5), strides=(1, 1), activation='relu', input_shape=(28, 28, 1)))\n",
        "  model.add(MaxPooling2D(pool_size=(2, 2), strides=(2, 2)))\n",
        "\n",
        "  model.add(Flatten())\n",
        "  model.add(Dense(100, activation='relu'))\n",
        "  model.add(Dense(num_classes, activation='softmax'))\n",
        "\n",
        "  model.compile(optimizer='adam', loss='categorical_crossentropy', metrics=['accuracy'])\n",
        "  return model"
      ],
      "metadata": {
        "id": "WuBvepwHjcWz"
      },
      "execution_count": 10,
      "outputs": []
    },
    {
      "cell_type": "code",
      "source": [
        "model = convolutional_model()"
      ],
      "metadata": {
        "colab": {
          "base_uri": "https://localhost:8080/"
        },
        "id": "rhEAcm_IlOCb",
        "outputId": "86319f6c-55c2-4e4b-f8a3-87ca147fddd7"
      },
      "execution_count": 11,
      "outputs": [
        {
          "output_type": "stream",
          "name": "stderr",
          "text": [
            "/usr/local/lib/python3.10/dist-packages/keras/src/layers/convolutional/base_conv.py:107: UserWarning: Do not pass an `input_shape`/`input_dim` argument to a layer. When using Sequential models, prefer using an `Input(shape)` object as the first layer in the model instead.\n",
            "  super().__init__(activity_regularizer=activity_regularizer, **kwargs)\n"
          ]
        }
      ]
    },
    {
      "cell_type": "code",
      "source": [
        "model.fit(x_train, y_train, validation_data=(x_test, y_test), epochs=10, batch_size=200, verbose=2)"
      ],
      "metadata": {
        "colab": {
          "base_uri": "https://localhost:8080/"
        },
        "id": "dDI0a5WcloZ-",
        "outputId": "cdc23c7a-8610-47d9-baf7-217ec15383f4"
      },
      "execution_count": 12,
      "outputs": [
        {
          "output_type": "stream",
          "name": "stdout",
          "text": [
            "Epoch 1/10\n",
            "300/300 - 24s - 81ms/step - accuracy: 0.9119 - loss: 0.3112 - val_accuracy: 0.9672 - val_loss: 0.1086\n",
            "Epoch 2/10\n",
            "300/300 - 20s - 68ms/step - accuracy: 0.9753 - loss: 0.0868 - val_accuracy: 0.9810 - val_loss: 0.0607\n",
            "Epoch 3/10\n",
            "300/300 - 45s - 149ms/step - accuracy: 0.9836 - loss: 0.0564 - val_accuracy: 0.9847 - val_loss: 0.0495\n",
            "Epoch 4/10\n",
            "300/300 - 39s - 129ms/step - accuracy: 0.9872 - loss: 0.0434 - val_accuracy: 0.9877 - val_loss: 0.0412\n",
            "Epoch 5/10\n",
            "300/300 - 21s - 69ms/step - accuracy: 0.9893 - loss: 0.0349 - val_accuracy: 0.9865 - val_loss: 0.0428\n",
            "Epoch 6/10\n",
            "300/300 - 42s - 140ms/step - accuracy: 0.9911 - loss: 0.0294 - val_accuracy: 0.9879 - val_loss: 0.0375\n",
            "Epoch 7/10\n",
            "300/300 - 41s - 137ms/step - accuracy: 0.9931 - loss: 0.0223 - val_accuracy: 0.9871 - val_loss: 0.0411\n",
            "Epoch 8/10\n",
            "300/300 - 41s - 137ms/step - accuracy: 0.9948 - loss: 0.0182 - val_accuracy: 0.9877 - val_loss: 0.0351\n",
            "Epoch 9/10\n",
            "300/300 - 40s - 133ms/step - accuracy: 0.9951 - loss: 0.0158 - val_accuracy: 0.9887 - val_loss: 0.0376\n",
            "Epoch 10/10\n",
            "300/300 - 22s - 73ms/step - accuracy: 0.9959 - loss: 0.0136 - val_accuracy: 0.9880 - val_loss: 0.0403\n"
          ]
        },
        {
          "output_type": "execute_result",
          "data": {
            "text/plain": [
              "<keras.src.callbacks.history.History at 0x7a691a5936a0>"
            ]
          },
          "metadata": {},
          "execution_count": 12
        }
      ]
    },
    {
      "cell_type": "code",
      "source": [
        "scores = model.evaluate(x_test, y_test, verbose=0)\n",
        "print('Accuracy {} \\n Error {}'.format(scores[1], 100-scores[1]*100))"
      ],
      "metadata": {
        "colab": {
          "base_uri": "https://localhost:8080/"
        },
        "id": "marKS0X1l2Zm",
        "outputId": "5d929320-41bc-4ea8-8f8a-aa015aa52bbb"
      },
      "execution_count": 13,
      "outputs": [
        {
          "output_type": "stream",
          "name": "stdout",
          "text": [
            "Accuracy 0.9879999756813049 \n",
            " Error 1.2000024318695068\n"
          ]
        }
      ]
    },
    {
      "cell_type": "code",
      "source": [
        "def convolutional_model():\n",
        "    model = Sequential()\n",
        "    model.add(Conv2D(16, (5, 5), activation='relu', input_shape=(28, 28, 1)))\n",
        "    model.add(MaxPooling2D(pool_size=(2, 2), strides=(2, 2)))\n",
        "\n",
        "    model.add(Conv2D(8, (2, 2), activation='relu'))\n",
        "    model.add(MaxPooling2D(pool_size=(2, 2), strides=(2, 2)))\n",
        "\n",
        "    model.add(Flatten())\n",
        "    model.add(Dense(100, activation='relu'))\n",
        "    model.add(Dense(num_classes, activation='softmax'))\n",
        "\n",
        "    model.compile(optimizer='adam', loss='categorical_crossentropy',  metrics=['accuracy'])\n",
        "    return model"
      ],
      "metadata": {
        "id": "ImDrOry5mJjs"
      },
      "execution_count": 14,
      "outputs": []
    },
    {
      "cell_type": "code",
      "source": [
        "model = convolutional_model()"
      ],
      "metadata": {
        "id": "G5hMoVQ3mrlB"
      },
      "execution_count": 15,
      "outputs": []
    },
    {
      "cell_type": "code",
      "source": [
        "model.fit(x_train, y_train, validation_data=(x_test, y_test), epochs=10, batch_size=200, verbose=2)"
      ],
      "metadata": {
        "colab": {
          "base_uri": "https://localhost:8080/"
        },
        "id": "Wq3-_Dscm-fS",
        "outputId": "9abc29d9-de85-4199-caa3-d9a5d4d082f5"
      },
      "execution_count": 16,
      "outputs": [
        {
          "output_type": "stream",
          "name": "stdout",
          "text": [
            "Epoch 1/10\n",
            "300/300 - 24s - 80ms/step - accuracy: 0.8754 - loss: 0.4321 - val_accuracy: 0.9668 - val_loss: 0.1129\n",
            "Epoch 2/10\n",
            "300/300 - 42s - 140ms/step - accuracy: 0.9686 - loss: 0.1046 - val_accuracy: 0.9761 - val_loss: 0.0752\n",
            "Epoch 3/10\n",
            "300/300 - 22s - 73ms/step - accuracy: 0.9758 - loss: 0.0794 - val_accuracy: 0.9814 - val_loss: 0.0608\n",
            "Epoch 4/10\n",
            "300/300 - 23s - 76ms/step - accuracy: 0.9808 - loss: 0.0650 - val_accuracy: 0.9837 - val_loss: 0.0536\n",
            "Epoch 5/10\n",
            "300/300 - 41s - 135ms/step - accuracy: 0.9823 - loss: 0.0578 - val_accuracy: 0.9788 - val_loss: 0.0677\n",
            "Epoch 6/10\n",
            "300/300 - 40s - 133ms/step - accuracy: 0.9846 - loss: 0.0507 - val_accuracy: 0.9857 - val_loss: 0.0439\n",
            "Epoch 7/10\n",
            "300/300 - 42s - 141ms/step - accuracy: 0.9864 - loss: 0.0453 - val_accuracy: 0.9865 - val_loss: 0.0424\n",
            "Epoch 8/10\n",
            "300/300 - 41s - 136ms/step - accuracy: 0.9881 - loss: 0.0399 - val_accuracy: 0.9865 - val_loss: 0.0411\n",
            "Epoch 9/10\n",
            "300/300 - 22s - 73ms/step - accuracy: 0.9891 - loss: 0.0365 - val_accuracy: 0.9881 - val_loss: 0.0361\n",
            "Epoch 10/10\n",
            "300/300 - 42s - 139ms/step - accuracy: 0.9899 - loss: 0.0341 - val_accuracy: 0.9855 - val_loss: 0.0428\n"
          ]
        },
        {
          "output_type": "execute_result",
          "data": {
            "text/plain": [
              "<keras.src.callbacks.history.History at 0x7a6918aea680>"
            ]
          },
          "metadata": {},
          "execution_count": 16
        },
        {
          "output_type": "stream",
          "name": "stdout",
          "text": [
            "Epoch 1/10\n"
          ]
        }
      ]
    },
    {
      "cell_type": "code",
      "source": [
        "scores = model.evaluate(x_test, y_test, verbose=0)\n",
        "print(\"Accuracy: {} \\n Error: {}\".format(scores[1], 100-scores[1]*100))"
      ],
      "metadata": {
        "colab": {
          "base_uri": "https://localhost:8080/"
        },
        "id": "CBZemw62nBKF",
        "outputId": "9293d354-4e10-4600-de71-31c9460b39b6"
      },
      "execution_count": 17,
      "outputs": [
        {
          "output_type": "stream",
          "name": "stdout",
          "text": [
            "Accuracy: 0.9854999780654907 \n",
            " Error: 1.4500021934509277\n"
          ]
        }
      ]
    }
  ]
}